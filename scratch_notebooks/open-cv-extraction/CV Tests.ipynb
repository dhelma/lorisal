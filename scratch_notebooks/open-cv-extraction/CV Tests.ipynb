{
 "cells": [
  {
   "cell_type": "code",
   "execution_count": 13,
   "metadata": {
    "collapsed": false
   },
   "outputs": [
    {
     "name": "stdout",
     "output_type": "stream",
     "text": [
      "https://repository.ou.edu/adore-djatoka/resolver?url_ver=Z39.88-2004&rft_id=https://repository.ou.edu/uuid/99f5f78c-24f8-5042-beb8-4decbd43ec81/datastream/JP2/view&svc_id=info:lanl-repo/svc/getRegion&svc_val_fmt=info:ofi/fmt:kev:mtx:jpeg2000&svc.format=image/jpeg&svc.level=01&svc.rotate=0\n",
      "https://repository.ou.edu/adore-djatoka/resolver?url_ver=Z39.88-2004&rft_id=https://repository.ou.edu/uuid/f32fc0a3-d585-5912-a016-5cb56f740cf3/datastream/JP2/view&svc_id=info:lanl-repo/svc/getRegion&svc_val_fmt=info:ofi/fmt:kev:mtx:jpeg2000&svc.format=image/jpeg&svc.level=01&svc.rotate=0\n"
     ]
    }
   ],
   "source": [
    "# Code for generating links for getting individual images of pages\n",
    "\n",
    "ZOOM = 1\n",
    "\n",
    "imgurl_pre = \"https://repository.ou.edu/adore-djatoka/resolver?url_ver=Z39.88-2004&rft_id=https://repository.ou.edu/uuid/\"\n",
    "imgurl_post = \"/datastream/JP2/view&svc_id=info:lanl-repo/svc/getRegion&svc_val_fmt=info:ofi/fmt:kev:mtx:jpeg2000&svc.format=image/jpeg&svc.level=0\"\n",
    "imgurl_post += str(ZOOM)\n",
    "imgurl_post += \"&svc.rotate=0\"\n",
    "\n",
    "noimg_uuid = \"99f5f78c-24f8-5042-beb8-4decbd43ec81\"\n",
    "img_uuid = \"f32fc0a3-d585-5912-a016-5cb56f740cf3\"\n",
    "\n",
    "print(imgurl_pre+noimg_uuid+imgurl_post)\n",
    "print(imgurl_pre+img_uuid+imgurl_post)"
   ]
  },
  {
   "cell_type": "code",
   "execution_count": 2,
   "metadata": {
    "collapsed": false
   },
   "outputs": [],
   "source": [
    "## Start extract-figures.py code\n",
    "\n",
    "import argparse\n",
    "import json\n",
    "import os\n",
    "import sys\n",
    "\n",
    "import cv2\n",
    "import numpy\n",
    "\n",
    "from image_mining.figure_extraction import FigureExtractor\n",
    "from image_mining.utils import open_image"
   ]
  },
  {
   "cell_type": "code",
   "execution_count": 50,
   "metadata": {
    "collapsed": false
   },
   "outputs": [
    {
     "name": "stdout",
     "output_type": "stream",
     "text": [
      "Processing ./testimages/img5.jpg\n",
      "\tSaving /home/eth/Dropbox/School/LibRepo/image-mining/img5-1.jpg\n"
     ]
    }
   ],
   "source": [
    "params = {\n",
    "\"canny_threshold\": 0,\n",
    "\"erosion_element\": \"rectangle\",\n",
    "\"erosion_size\": 12,\n",
    "\"dilation_element\": \"rectangle\",\n",
    "\"dilation_size\": 2,\n",
    "# \"min_area\": ,\n",
    "# \"min_height\": ,\n",
    "# \"max_height\": ,\n",
    "# \"min_width\": ,\n",
    "# \"max_width\": ,\n",
    "}\n",
    "\n",
    "INTERACTIVE = False\n",
    "FILES = [\"./testimages/img5.jpg\"]\n",
    "SAVE_JSON = False\n",
    "output_dir = os.getcwd()\n",
    "\n",
    "extractor = FigureExtractor(**params)\n",
    "\n",
    "if INTERACTIVE:\n",
    "    display_images(extractor, FILES)\n",
    "else:\n",
    "    for f in FILES:\n",
    "        try:\n",
    "            base_name, source_image = open_image(f)\n",
    "        except StandardError as exc:\n",
    "            print >>sys.stderr, exc\n",
    "            continue\n",
    "\n",
    "        output_base = os.path.join(output_dir, base_name)\n",
    "\n",
    "        print(\"Processing %s\" % f)\n",
    "\n",
    "        boxes = []\n",
    "\n",
    "        for i, bbox in enumerate(extractor.find_figures(source_image), 1):\n",
    "            extracted = source_image[bbox.image_slice]\n",
    "            extract_filename = os.path.join(output_dir, \"%s-%d.jpg\" % (output_base, i))\n",
    "            print(\"\\tSaving %s\" % extract_filename)\n",
    "            cv2.imwrite(extract_filename, extracted)\n",
    "\n",
    "            boxes.append(bbox.as_dict())\n",
    "\n",
    "        if SAVE_JSON and boxes:\n",
    "            json_data = {\"source_image\": {\"filename\": f,\n",
    "                                          \"dimensions\": {\"width\": source_image.shape[1],\n",
    "                                                         \"height\": source_image.shape[0]}},\n",
    "                         \"regions\": boxes}\n",
    "\n",
    "            json_filename = os.path.join(output_dir, \"%s.json\" % output_base)\n",
    "            with open(json_filename, \"wb\") as json_f:\n",
    "                json.dump(json_data, json_f, allow_nan=False)\n",
    "            print(\"\\tSaved extract information to %s\" % json_filename)"
   ]
  },
  {
   "cell_type": "code",
   "execution_count": null,
   "metadata": {
    "collapsed": true
   },
   "outputs": [],
   "source": []
  }
 ],
 "metadata": {
  "kernelspec": {
   "display_name": "Python 3",
   "language": "python",
   "name": "python3"
  },
  "language_info": {
   "codemirror_mode": {
    "name": "ipython",
    "version": 3
   },
   "file_extension": ".py",
   "mimetype": "text/x-python",
   "name": "python",
   "nbconvert_exporter": "python",
   "pygments_lexer": "ipython3",
   "version": "3.5.2"
  }
 },
 "nbformat": 4,
 "nbformat_minor": 2
}
