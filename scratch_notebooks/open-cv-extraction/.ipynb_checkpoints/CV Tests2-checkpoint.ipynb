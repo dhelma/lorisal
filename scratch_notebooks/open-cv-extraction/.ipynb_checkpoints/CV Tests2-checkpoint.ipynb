{
 "cells": [
  {
   "cell_type": "code",
   "execution_count": 1,
   "metadata": {
    "collapsed": false
   },
   "outputs": [],
   "source": [
    "## Start extract-figures.py code\n",
    "\n",
    "import argparse\n",
    "import json\n",
    "import os\n",
    "import sys\n",
    "\n",
    "import cv2\n",
    "import numpy\n",
    "\n",
    "from image_mining.figure_extraction import FigureExtractor\n",
    "from image_mining.utils import open_image"
   ]
  },
  {
   "cell_type": "code",
   "execution_count": 7,
   "metadata": {
    "collapsed": false
   },
   "outputs": [
    {
     "name": "stdout",
     "output_type": "stream",
     "text": [
      "Processing /home/eth/lorisal_imgs/Epistola/9638f4a4-1827-54aa-b39f-f599f2edbfa0.jpg\n",
      "\tSaving /home/eth/Dropbox/School/LibRepo/image-mining/9638f4a4-1827-54aa-b39f-f599f2edbfa0-1.jpg\n",
      "Processing /home/eth/lorisal_imgs/Epistola/c45ccc3f-fc2d-5c0b-9055-28ad8bdab590.jpg\n",
      "\tSaving /home/eth/Dropbox/School/LibRepo/image-mining/c45ccc3f-fc2d-5c0b-9055-28ad8bdab590-1.jpg\n",
      "Processing /home/eth/lorisal_imgs/Epistola/9577fca1-cb99-5631-b8c0-8c8bf8e21129.jpg\n",
      "\tSaving /home/eth/Dropbox/School/LibRepo/image-mining/9577fca1-cb99-5631-b8c0-8c8bf8e21129-1.jpg\n",
      "Processing /home/eth/lorisal_imgs/Epistola/2548c61b-5575-5470-97df-95bcfca17d48.jpg\n",
      "Processing /home/eth/lorisal_imgs/Epistola/53cb4ca7-1ed6-52db-8799-7c49db4191e6.jpg\n",
      "Processing /home/eth/lorisal_imgs/Epistola/5af1269b-e301-5ec5-98f1-832ab9487f8d.jpg\n"
     ]
    }
   ],
   "source": [
    "params = {\n",
    "\"canny_threshold\": 0,\n",
    "\"erosion_element\": \"rectangle\",\n",
    "\"erosion_size\": 9,\n",
    "\"dilation_element\": \"rectangle\",\n",
    "\"dilation_size\": 2,\n",
    "# \"min_area\": ,\n",
    "# \"min_height\": ,\n",
    "# \"max_height\": ,\n",
    "# \"min_width\": ,\n",
    "# \"max_width\": ,\n",
    "}\n",
    "\n",
    "INTERACTIVE = False\n",
    "FILES = [\n",
    "    \"/home/eth/lorisal_imgs/Epistola/9638f4a4-1827-54aa-b39f-f599f2edbfa0.jpg\",\n",
    "    \"/home/eth/lorisal_imgs/Epistola/c45ccc3f-fc2d-5c0b-9055-28ad8bdab590.jpg\",\n",
    "    \"/home/eth/lorisal_imgs/Epistola/9577fca1-cb99-5631-b8c0-8c8bf8e21129.jpg\",\n",
    "    \"/home/eth/lorisal_imgs/Epistola/2548c61b-5575-5470-97df-95bcfca17d48.jpg\",\n",
    "    \"/home/eth/lorisal_imgs/Epistola/53cb4ca7-1ed6-52db-8799-7c49db4191e6.jpg\",\n",
    "    \"/home/eth/lorisal_imgs/Epistola/5af1269b-e301-5ec5-98f1-832ab9487f8d.jpg\"\n",
    "    ]\n",
    "SAVE_JSON = False\n",
    "output_dir = os.getcwd()\n",
    "\n",
    "extractor = FigureExtractor(**params)\n",
    "\n",
    "if INTERACTIVE:\n",
    "    display_images(extractor, FILES)\n",
    "else:\n",
    "    for f in FILES:\n",
    "        try:\n",
    "            base_name, source_image = open_image(f)\n",
    "        except StandardError as exc:\n",
    "            print >>sys.stderr, exc\n",
    "            continue\n",
    "\n",
    "        output_base = os.path.join(output_dir, base_name)\n",
    "\n",
    "        print(\"Processing %s\" % f)\n",
    "\n",
    "        boxes = []\n",
    "\n",
    "        for i, bbox in enumerate(extractor.find_figures(source_image), 1):\n",
    "            extracted = source_image[bbox.image_slice]\n",
    "            extract_filename = os.path.join(output_dir, \"%s-%d.jpg\" % (output_base, i))\n",
    "            print(\"\\tSaving %s\" % extract_filename)\n",
    "            cv2.imwrite(extract_filename, extracted)\n",
    "\n",
    "            boxes.append(bbox.as_dict())\n",
    "\n",
    "        if SAVE_JSON and boxes:\n",
    "            json_data = {\"source_image\": {\"filename\": f,\n",
    "                                          \"dimensions\": {\"width\": source_image.shape[1],\n",
    "                                                         \"height\": source_image.shape[0]}},\n",
    "                         \"regions\": boxes}\n",
    "\n",
    "            json_filename = os.path.join(output_dir, \"%s.json\" % output_base)\n",
    "            with open(json_filename, \"wb\") as json_f:\n",
    "                json.dump(json_data, json_f, allow_nan=False)\n",
    "            print(\"\\tSaved extract information to %s\" % json_filename)"
   ]
  },
  {
   "cell_type": "code",
   "execution_count": null,
   "metadata": {
    "collapsed": true
   },
   "outputs": [],
   "source": []
  }
 ],
 "metadata": {
  "kernelspec": {
   "display_name": "Python 3",
   "language": "python",
   "name": "python3"
  },
  "language_info": {
   "codemirror_mode": {
    "name": "ipython",
    "version": 3
   },
   "file_extension": ".py",
   "mimetype": "text/x-python",
   "name": "python",
   "nbconvert_exporter": "python",
   "pygments_lexer": "ipython3",
   "version": "3.6.0"
  }
 },
 "nbformat": 4,
 "nbformat_minor": 2
}
